{
 "nbformat": 4,
 "nbformat_minor": 0,
 "metadata": {
  "colab": {
   "provenance": []
  },
  "kernelspec": {
   "name": "python3",
   "display_name": "Python 3 (ipykernel)",
   "language": "python"
  },
  "language_info": {
   "name": "python"
  }
 },
 "cells": [
  {
   "cell_type": "markdown",
   "source": [
    "#Задача 1\n",
    "Написать функцию на вход которой подается строка, состоящая из латинских букв.\n",
    "Функция должна вернуть количество гласных букв (a, e, i, o, u) в этой строке. Написать тесты для кода"
   ],
   "metadata": {
    "id": "M-DGa20PaHnu"
   }
  },
  {
   "cell_type": "code",
   "source": [
    "def count_vowels(word):\n",
    "    vowels = ['a', 'e', 'i', 'o', 'u']\n",
    "    count = 0\n",
    "    for char in word:\n",
    "        if char in vowels:\n",
    "            count += 1\n",
    "    return count\n",
    "print(f'Строка hello {count_vowels('hello')}')\n",
    "print(f'Строка aeiou {count_vowels('aeiou')}')"
   ],
   "metadata": {
    "id": "XvX8X_JJ6PCb",
    "ExecuteTime": {
     "end_time": "2025-03-27T15:36:09.293729Z",
     "start_time": "2025-03-27T15:36:09.286986Z"
    }
   },
   "outputs": [
    {
     "name": "stdout",
     "output_type": "stream",
     "text": [
      "Строка hello 2\n",
      "Строка aeiou 5\n"
     ]
    }
   ],
   "execution_count": 92
  },
  {
   "cell_type": "markdown",
   "source": [
    "# Задача 2\n",
    "Написать функцию на вход, которой подается строка. Функция должна вернуть true, если\n",
    "каждый символ в строке встречается только 1 раз, иначе должна вернуть false. Написать тесты для кода"
   ],
   "metadata": {
    "id": "t2ClV_Y0bbr6"
   }
  },
  {
   "cell_type": "code",
   "source": [
    "def count_unique_symbols(word):\n",
    "    unique_symbols = set(word)\n",
    "    return len(word) == len(unique_symbols)\n",
    "print(f'Строка abc {count_unique_symbols('abc')}')\n",
    "print(f'Строка hello {count_unique_symbols('hello')}')"
   ],
   "metadata": {
    "id": "FppbECao6VIz",
    "ExecuteTime": {
     "end_time": "2025-03-27T15:36:09.310715Z",
     "start_time": "2025-03-27T15:36:09.305125Z"
    }
   },
   "outputs": [
    {
     "name": "stdout",
     "output_type": "stream",
     "text": [
      "Строка abc True\n",
      "Строка hello False\n"
     ]
    }
   ],
   "execution_count": 93
  },
  {
   "cell_type": "markdown",
   "source": [
    "# Задача 3\n",
    "Написать функцию, которая принимает положительное число и возвращает количество\n",
    "бит равных 1 в этом числе. Написать тесты для кода"
   ],
   "metadata": {
    "id": "udRiIK1cdt6E"
   }
  },
  {
   "cell_type": "code",
   "source": [
    "def count_ones_in_binary(number):\n",
    "    binary = bin(number)[2:]\n",
    "    return binary.count('1')\n",
    "print(f'количество единиц в двоичной записи числа 3 {count_ones_in_binary(3)}')\n",
    "print(f'количество единиц в двоичной записи числа 10 {count_ones_in_binary(10)}')"
   ],
   "metadata": {
    "id": "6tkfDJRz6dp_",
    "ExecuteTime": {
     "end_time": "2025-03-27T15:36:09.328317Z",
     "start_time": "2025-03-27T15:36:09.323700Z"
    }
   },
   "outputs": [
    {
     "name": "stdout",
     "output_type": "stream",
     "text": [
      "количество единиц в двоичной записи числа 3 2\n",
      "количество единиц в двоичной записи числа 10 2\n"
     ]
    }
   ],
   "execution_count": 94
  },
  {
   "cell_type": "markdown",
   "source": [
    "# Задача 4\n",
    "Написать функцию, которая принимает положительное число. Функция должна вернуть то,\n",
    "сколько раз необходимо перемножать цифры числа или результат перемножения, чтобы\n",
    "получилось число состоящее из одной цифры.\n",
    "Например, для входного числа:\n",
    "· 39 функция должна вернуть 3, так как 3*9=27 => 2*7=14 => 1*4=4\n",
    "· 4 функция должна вернуть 0, так как число уже состоит из одной цифры\n",
    "· 999 функция должна вернуть 4, так как 9*9*9=729 => 7*2*9=126 => 1*2*6=12 =>\n",
    "1*2=2. Написать тесты для кода"
   ],
   "metadata": {
    "id": "26dDUz-Ae17N"
   }
  },
  {
   "cell_type": "code",
   "source": [
    "def magic(n,count):\n",
    "    result=1\n",
    "    if n//10==0:\n",
    "        return 0\n",
    "    for i in str(n):\n",
    "        result *= int(i)\n",
    "    if result//10 == 0:\n",
    "        return count\n",
    "    else:\n",
    "        count+=1\n",
    "        return magic(result,count)\n",
    "print(f'Ответ для числа 999 {magic(999,1)}')\n",
    "print(f'Ответ для числа 39 {magic(39,1)}')\n",
    "print(f'Ответ для числа 0 {magic(0,1)}')"
   ],
   "metadata": {
    "id": "BH1A_Mgi6i4G",
    "ExecuteTime": {
     "end_time": "2025-03-27T15:39:26.646201Z",
     "start_time": "2025-03-27T15:39:26.640090Z"
    }
   },
   "outputs": [
    {
     "name": "stdout",
     "output_type": "stream",
     "text": [
      "Ответ для числа 999 4\n",
      "Ответ для числа 39 3\n",
      "Ответ для числа 0 0\n"
     ]
    }
   ],
   "execution_count": 107
  },
  {
   "cell_type": "markdown",
   "source": [
    "# Задача 5\n",
    "Написать функцию, которая принимает два целочисленных вектора одинаковой длины и\n",
    "возвращает среднеквадратическое отклонение двух векторов. Написать тесты для кода"
   ],
   "metadata": {
    "id": "0nS-kIa8g8vd"
   }
  },
  {
   "cell_type": "code",
   "source": [
    "def mse(vector1, vector2):\n",
    "\n",
    "    squared_diffs = [(a - b) ** 2 for a, b in zip(vector1, vector2)]\n",
    "    return sum(squared_diffs) / len(vector1)\n",
    "\n",
    "\n",
    "print(f'Ответ для [1,1,1],[2,2,2] {mse([1,1,1],[2,2,2])}')\n",
    "print(f'Ответ для [1,2,4],[1,1,1] {mse([1,2,4],[1,1,1])}')"
   ],
   "metadata": {
    "id": "8iphx4LM6xbx",
    "ExecuteTime": {
     "end_time": "2025-03-27T16:38:32.298536Z",
     "start_time": "2025-03-27T16:38:32.291587Z"
    }
   },
   "outputs": [
    {
     "name": "stdout",
     "output_type": "stream",
     "text": [
      "Ответ для [1,1,1],[2,2,2] 1.0\n",
      "Ответ для [1,2,4],[1,1,1] 3.3333333333333335\n"
     ]
    }
   ],
   "execution_count": 239
  },
  {
   "cell_type": "markdown",
   "source": [
    "# Задача 6\n",
    "Написать функцию, принимающая целое положительное число. Функция должна вернуть\n",
    "строку вида “(n1**p1)(n2**p2)…(nk**pk)” представляющая разложение числа на простые\n",
    "множители (если pi == 1, то выводить только ni).\n",
    "Например, для числа 86240 функция должна вернуть “(2**5)(5)(7**2)(11)”. Написать тесты для кода"
   ],
   "metadata": {
    "id": "vpIPKL439zkw"
   }
  },
  {
   "cell_type": "code",
   "source": [
    "def prime_numbers(n: int) -> str:\n",
    "\n",
    "    factors = {}\n",
    "    divisor = 2\n",
    "    if n ==1:\n",
    "        return '(1)'\n",
    "    while n > 1:\n",
    "        count = 0\n",
    "        while n % divisor == 0:\n",
    "            n //= divisor\n",
    "            count += 1\n",
    "        if count > 0:\n",
    "            factors[divisor] = count\n",
    "        divisor += 1\n",
    "\n",
    "    return \"\".join(f\"({k}**{v})\" if v > 1 else f\"({k})\" for k, v in factors.items())\n",
    "\n",
    "print(f'Ответ для 86240 {prime_numbers(86240)}')\n",
    "print(f'Ответ для 1 {prime_numbers(1)}')\n",
    "print(f'Ответ для 900 {prime_numbers(900)}')\n",
    "\n"
   ],
   "metadata": {
    "id": "pFebmcZk94Jw",
    "ExecuteTime": {
     "end_time": "2025-03-27T16:27:58.378439Z",
     "start_time": "2025-03-27T16:27:58.362951Z"
    }
   },
   "outputs": [
    {
     "name": "stdout",
     "output_type": "stream",
     "text": [
      "Ответ для 86240 (2**5)(5)(7**2)(11)\n",
      "Ответ для 1 (1)\n",
      "Ответ для 900 (2**2)(3**2)(5**2)\n"
     ]
    }
   ],
   "execution_count": 234
  },
  {
   "cell_type": "markdown",
   "source": [
    "# Задача 7\n",
    "Написать функцию, принимающая целое число n, задающее количество кубиков. Функция\n",
    "должна определить, можно ли из данного кол-ва кубиков построить пирамиду, то есть\n",
    "можно ли представить число n как 1^2+2^2+3^2+…+k^2. Если можно, то функция должна\n",
    "вернуть k, иначе строку “It is impossible”. Написать тесты для кода"
   ],
   "metadata": {
    "id": "ps2s0BudX7A2"
   }
  },
  {
   "cell_type": "code",
   "source": [
    "def pyramid(number):\n",
    "    k=0\n",
    "    number_2=0\n",
    "    while k<=number:\n",
    "        if number_2 == number:\n",
    "            return k\n",
    "        if k**2!=number:\n",
    "           k+=1\n",
    "           number_2+=k**2\n",
    "           if number_2>number:\n",
    "               return 'It is impossible'\n",
    "print(f'Ответ для 14 {pyramid(14)}')\n",
    "print(f'Ответ для 30 {pyramid(30)}')\n",
    "print(f'Ответ для 0 {pyramid(0)}')\n",
    "print(f'Ответ для 2 {pyramid(2)}')\n",
    "\n"
   ],
   "metadata": {
    "id": "3YPjEXxhX_YT",
    "ExecuteTime": {
     "end_time": "2025-03-27T16:09:51.093348Z",
     "start_time": "2025-03-27T16:09:51.084877Z"
    }
   },
   "outputs": [
    {
     "name": "stdout",
     "output_type": "stream",
     "text": [
      "Ответ для 14 3\n",
      "Ответ для 30 4\n",
      "Ответ для 0 0\n",
      "Ответ для 2 It is impossible\n"
     ]
    }
   ],
   "execution_count": 225
  },
  {
   "cell_type": "markdown",
   "source": [
    "# Задача 8\n",
    "Функция принимает на вход положительное число и определяет является ли оно сбалансированным, т.е. сумма цифр до средних равна сумме цифр после. Средними в случае нечетного числа цифр считать одну цифру, в случае четного - две средних. Написать тесты для кода"
   ],
   "metadata": {
    "id": "KeKgmIdAQMEJ"
   }
  },
  {
   "cell_type": "code",
   "source": [
    "def count_slices_before_and_after_median(s):\n",
    "    a=str(s)\n",
    "    if len(a)%2==0:\n",
    "        k=[int(x) for x in a[:(len(a)//2)-1]]\n",
    "        l=[int(x) for x in a[((len(a)//2)+1):]]\n",
    "        o=0\n",
    "        return sum([int(x) for x in a[:(len(a)//2)-1]]) == sum([int(x) for x in a[(len(a)//2)+1:]])\n",
    "    else:\n",
    "        return sum([int(x) for x in a[:len(a)//2]]) == sum([int(x) for x in a[len(a)//2+1:]])\n",
    "print(f'Ответ для 2112 {count_slices_before_and_after_median(2112)}')\n",
    "print(f'Ответ для 353 {count_slices_before_and_after_median(353)}')\n",
    "print(f'Ответ для 44362 {count_slices_before_and_after_median(44362)}')\n",
    "print(f'Ответ для 54536 {count_slices_before_and_after_median(54536)}')"
   ],
   "metadata": {
    "id": "gMAAqtqlQrZt",
    "ExecuteTime": {
     "end_time": "2025-03-27T16:02:14.727913Z",
     "start_time": "2025-03-27T16:02:14.719094Z"
    }
   },
   "outputs": [
    {
     "name": "stdout",
     "output_type": "stream",
     "text": [
      "Ответ для 2112 True\n",
      "Ответ для 353 True\n",
      "Ответ для 44362 True\n",
      "Ответ для 54536 True\n"
     ]
    }
   ],
   "execution_count": 216
  }
 ]
}
